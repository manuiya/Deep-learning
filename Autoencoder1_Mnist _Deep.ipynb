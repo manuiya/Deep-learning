{
 "cells": [
  {
   "cell_type": "code",
   "execution_count": 1,
   "metadata": {},
   "outputs": [],
   "source": [
    "# Import the Libararies\n",
    "from keras.layers import Input, Dense\n",
    "from keras.models import Model\n",
    "from keras.datasets import mnist\n",
    "import numpy as np\n",
    "import matplotlib.pyplot as plt"
   ]
  },
  {
   "cell_type": "code",
   "execution_count": 2,
   "metadata": {},
   "outputs": [],
   "source": [
    "# Import the dataset\n",
    "(x_train, _), (x_test, _) = mnist.load_data()"
   ]
  },
  {
   "cell_type": "code",
   "execution_count": 3,
   "metadata": {},
   "outputs": [
    {
     "data": {
      "text/plain": [
       "((60000, 28, 28), (10000, 28, 28))"
      ]
     },
     "execution_count": 3,
     "metadata": {},
     "output_type": "execute_result"
    }
   ],
   "source": [
    "x_train.shape,x_test.shape"
   ]
  },
  {
   "cell_type": "code",
   "execution_count": 4,
   "metadata": {},
   "outputs": [],
   "source": [
    "# Scaling\n",
    "x_train = x_train.astype('float32') / 255.\n",
    "x_test = x_test.astype('float32') / 255.\n",
    "\n",
    "x_train = x_train.reshape((len(x_train), np.prod(x_train.shape[1:])))  #Return the product of array elements over a given axis.\n",
    "x_test = x_test.reshape((len(x_test), np.prod(x_test.shape[1:])))"
   ]
  },
  {
   "cell_type": "code",
   "execution_count": 5,
   "metadata": {},
   "outputs": [
    {
     "data": {
      "text/plain": [
       "((60000, 784), (10000, 784))"
      ]
     },
     "execution_count": 5,
     "metadata": {},
     "output_type": "execute_result"
    }
   ],
   "source": [
    "x_train.shape,x_test.shape"
   ]
  },
  {
   "cell_type": "code",
   "execution_count": 6,
   "metadata": {},
   "outputs": [],
   "source": [
    "input_size = 784\n",
    "#hidden_size = 128\n",
    "code_size = 32\n",
    "\n",
    "input_img = Input(shape=(input_size,))\n",
    "\n",
    "#hidden_1 = Dense(hidden_size, activation='relu')(input_img)\n",
    "hidden_1 = Dense(128, activation='relu')(input_img)\n",
    "hidden_2 = Dense(64, activation='relu')(hidden_1)\n",
    "\n",
    "code = Dense(code_size, activation='relu')(hidden_2)\n",
    "\n",
    "hidden_3 = Dense(64, activation='relu')(code)\n",
    "hidden_4 = Dense(128, activation='relu')(hidden_3)\n",
    "\n",
    "output_img = Dense(input_size, activation='sigmoid')(hidden_4)\n",
    "\n",
    "autoencoder = Model(input_img, output_img)\n",
    "\n",
    "autoencoder.compile(optimizer='adam', loss='binary_crossentropy')\n",
    "\n",
    "\n"
   ]
  },
  {
   "cell_type": "code",
   "execution_count": 7,
   "metadata": {},
   "outputs": [
    {
     "name": "stdout",
     "output_type": "stream",
     "text": [
      "Model: \"model\"\n",
      "_________________________________________________________________\n",
      " Layer (type)                Output Shape              Param #   \n",
      "=================================================================\n",
      " input_1 (InputLayer)        [(None, 784)]             0         \n",
      "                                                                 \n",
      " dense (Dense)               (None, 128)               100480    \n",
      "                                                                 \n",
      " dense_1 (Dense)             (None, 64)                8256      \n",
      "                                                                 \n",
      " dense_2 (Dense)             (None, 32)                2080      \n",
      "                                                                 \n",
      " dense_3 (Dense)             (None, 64)                2112      \n",
      "                                                                 \n",
      " dense_4 (Dense)             (None, 128)               8320      \n",
      "                                                                 \n",
      " dense_5 (Dense)             (None, 784)               101136    \n",
      "                                                                 \n",
      "=================================================================\n",
      "Total params: 222,384\n",
      "Trainable params: 222,384\n",
      "Non-trainable params: 0\n",
      "_________________________________________________________________\n"
     ]
    }
   ],
   "source": [
    "autoencoder.summary()"
   ]
  },
  {
   "cell_type": "code",
   "execution_count": 8,
   "metadata": {},
   "outputs": [
    {
     "name": "stdout",
     "output_type": "stream",
     "text": [
      "Epoch 1/50\n",
      "235/235 [==============================] - 3s 9ms/step - loss: 0.2394 - val_loss: 0.1596\n",
      "Epoch 2/50\n",
      "235/235 [==============================] - 2s 8ms/step - loss: 0.1447 - val_loss: 0.1311\n",
      "Epoch 3/50\n",
      "235/235 [==============================] - 2s 8ms/step - loss: 0.1260 - val_loss: 0.1193\n",
      "Epoch 4/50\n",
      "235/235 [==============================] - 2s 8ms/step - loss: 0.1179 - val_loss: 0.1135\n",
      "Epoch 5/50\n",
      "235/235 [==============================] - 2s 8ms/step - loss: 0.1130 - val_loss: 0.1095\n",
      "Epoch 6/50\n",
      "235/235 [==============================] - 2s 8ms/step - loss: 0.1091 - val_loss: 0.1061\n",
      "Epoch 7/50\n",
      "235/235 [==============================] - 2s 8ms/step - loss: 0.1060 - val_loss: 0.1037\n",
      "Epoch 8/50\n",
      "235/235 [==============================] - 2s 8ms/step - loss: 0.1035 - val_loss: 0.1011\n",
      "Epoch 9/50\n",
      "235/235 [==============================] - 2s 8ms/step - loss: 0.1014 - val_loss: 0.0993\n",
      "Epoch 10/50\n",
      "235/235 [==============================] - 2s 9ms/step - loss: 0.0996 - val_loss: 0.0977\n",
      "Epoch 11/50\n",
      "235/235 [==============================] - 2s 8ms/step - loss: 0.0980 - val_loss: 0.0968\n",
      "Epoch 12/50\n",
      "235/235 [==============================] - 2s 8ms/step - loss: 0.0966 - val_loss: 0.0952\n",
      "Epoch 13/50\n",
      "235/235 [==============================] - 2s 8ms/step - loss: 0.0954 - val_loss: 0.0939\n",
      "Epoch 14/50\n",
      "235/235 [==============================] - 2s 8ms/step - loss: 0.0945 - val_loss: 0.0936\n",
      "Epoch 15/50\n",
      "235/235 [==============================] - 2s 8ms/step - loss: 0.0937 - val_loss: 0.0925\n",
      "Epoch 16/50\n",
      "235/235 [==============================] - 2s 8ms/step - loss: 0.0928 - val_loss: 0.0919\n",
      "Epoch 17/50\n",
      "235/235 [==============================] - 2s 8ms/step - loss: 0.0922 - val_loss: 0.0912\n",
      "Epoch 18/50\n",
      "235/235 [==============================] - 2s 9ms/step - loss: 0.0917 - val_loss: 0.0906\n",
      "Epoch 19/50\n",
      "235/235 [==============================] - 2s 9ms/step - loss: 0.0911 - val_loss: 0.0907\n",
      "Epoch 20/50\n",
      "235/235 [==============================] - 2s 8ms/step - loss: 0.0906 - val_loss: 0.0897\n",
      "Epoch 21/50\n",
      "235/235 [==============================] - 2s 8ms/step - loss: 0.0900 - val_loss: 0.0889\n",
      "Epoch 22/50\n",
      "235/235 [==============================] - 2s 8ms/step - loss: 0.0896 - val_loss: 0.0887\n",
      "Epoch 23/50\n",
      "235/235 [==============================] - 2s 8ms/step - loss: 0.0892 - val_loss: 0.0882\n",
      "Epoch 24/50\n",
      "235/235 [==============================] - 2s 8ms/step - loss: 0.0887 - val_loss: 0.0881\n",
      "Epoch 25/50\n",
      "235/235 [==============================] - 2s 8ms/step - loss: 0.0884 - val_loss: 0.0873\n",
      "Epoch 26/50\n",
      "235/235 [==============================] - 2s 9ms/step - loss: 0.0880 - val_loss: 0.0873\n",
      "Epoch 27/50\n",
      "235/235 [==============================] - 2s 8ms/step - loss: 0.0878 - val_loss: 0.0872\n",
      "Epoch 28/50\n",
      "235/235 [==============================] - 2s 8ms/step - loss: 0.0874 - val_loss: 0.0867\n",
      "Epoch 29/50\n",
      "235/235 [==============================] - 2s 8ms/step - loss: 0.0871 - val_loss: 0.0863\n",
      "Epoch 30/50\n",
      "235/235 [==============================] - 2s 8ms/step - loss: 0.0868 - val_loss: 0.0865\n",
      "Epoch 31/50\n",
      "235/235 [==============================] - 2s 8ms/step - loss: 0.0866 - val_loss: 0.0860\n",
      "Epoch 32/50\n",
      "235/235 [==============================] - 2s 8ms/step - loss: 0.0863 - val_loss: 0.0857\n",
      "Epoch 33/50\n",
      "235/235 [==============================] - 2s 8ms/step - loss: 0.0860 - val_loss: 0.0857\n",
      "Epoch 34/50\n",
      "235/235 [==============================] - 2s 9ms/step - loss: 0.0858 - val_loss: 0.0860\n",
      "Epoch 35/50\n",
      "235/235 [==============================] - 2s 9ms/step - loss: 0.0856 - val_loss: 0.0848\n",
      "Epoch 36/50\n",
      "235/235 [==============================] - 2s 8ms/step - loss: 0.0854 - val_loss: 0.0848\n",
      "Epoch 37/50\n",
      "235/235 [==============================] - 2s 8ms/step - loss: 0.0851 - val_loss: 0.0847\n",
      "Epoch 38/50\n",
      "235/235 [==============================] - 2s 8ms/step - loss: 0.0848 - val_loss: 0.0843\n",
      "Epoch 39/50\n",
      "235/235 [==============================] - 2s 8ms/step - loss: 0.0846 - val_loss: 0.0842\n",
      "Epoch 40/50\n",
      "235/235 [==============================] - 2s 8ms/step - loss: 0.0845 - val_loss: 0.0839\n",
      "Epoch 41/50\n",
      "235/235 [==============================] - 2s 8ms/step - loss: 0.0842 - val_loss: 0.0835\n",
      "Epoch 42/50\n",
      "235/235 [==============================] - 2s 9ms/step - loss: 0.0841 - val_loss: 0.0835\n",
      "Epoch 43/50\n",
      "235/235 [==============================] - 2s 9ms/step - loss: 0.0839 - val_loss: 0.0834\n",
      "Epoch 44/50\n",
      "235/235 [==============================] - 2s 9ms/step - loss: 0.0838 - val_loss: 0.0832\n",
      "Epoch 45/50\n",
      "235/235 [==============================] - 2s 8ms/step - loss: 0.0836 - val_loss: 0.0832\n",
      "Epoch 46/50\n",
      "235/235 [==============================] - 2s 8ms/step - loss: 0.0835 - val_loss: 0.0830\n",
      "Epoch 47/50\n",
      "235/235 [==============================] - 2s 8ms/step - loss: 0.0834 - val_loss: 0.0828\n",
      "Epoch 48/50\n",
      "235/235 [==============================] - 2s 8ms/step - loss: 0.0832 - val_loss: 0.0831\n",
      "Epoch 49/50\n",
      "235/235 [==============================] - 2s 8ms/step - loss: 0.0832 - val_loss: 0.0830\n",
      "Epoch 50/50\n",
      "235/235 [==============================] - 2s 9ms/step - loss: 0.0831 - val_loss: 0.0825\n"
     ]
    },
    {
     "data": {
      "text/plain": [
       "<keras.callbacks.History at 0x1b0ebf66f40>"
      ]
     },
     "execution_count": 8,
     "metadata": {},
     "output_type": "execute_result"
    }
   ],
   "source": [
    "autoencoder.fit(x_train, x_train, epochs=50, batch_size=256, shuffle=True, validation_data=(x_test, x_test))"
   ]
  },
  {
   "cell_type": "code",
   "execution_count": 9,
   "metadata": {},
   "outputs": [],
   "source": [
    "def plot_autoencoder_outputs(autoencoder, n, dims):\n",
    "    decoded_imgs = autoencoder.predict(x_test)\n",
    "\n",
    "    # number of example digits to show\n",
    "    n = 10\n",
    "    plt.figure(figsize=(20, 4))\n",
    "    for i in range(n):\n",
    "        # plot original image\n",
    "        ax = plt.subplot(2, n, i + 1)\n",
    "        plt.imshow(x_test[i].reshape(*dims))\n",
    "        plt.gray()\n",
    "        ax.get_xaxis().set_visible(False)\n",
    "        ax.get_yaxis().set_visible(False)\n",
    "        \n",
    "\n",
    "        # plot reconstruction \n",
    "        ax = plt.subplot(2, n, i + 1 + n)\n",
    "        plt.imshow(decoded_imgs[i].reshape(*dims))\n",
    "        plt.gray()\n",
    "        ax.get_xaxis().set_visible(False)\n",
    "        ax.get_yaxis().set_visible(False)\n",
    "       \n",
    "    plt.show()\n"
   ]
  },
  {
   "cell_type": "code",
   "execution_count": 10,
   "metadata": {},
   "outputs": [
    {
     "data": {
      "image/png": "[encoded data removed]",
      "text/plain": [
       "<Figure size 2000x400 with 20 Axes>"
      ]
     },
     "metadata": {},
     "output_type": "display_data"
    }
   ],
   "source": [
    "plot_autoencoder_outputs(autoencoder, 10, (28, 28))"
   ]
  },
  {
   "cell_type": "code",
   "execution_count": null,
   "metadata": {},
   "outputs": [],
   "source": []
  }
 ],
 "metadata": {
  "kernelspec": {
   "display_name": "Python 3 (ipykernel)",
   "language": "python",
   "name": "python3"
  },
  "language_info": {
   "codemirror_mode": {
    "name": "ipython",
    "version": 3
   },
   "file_extension": ".py",
   "mimetype": "text/x-python",
   "name": "python",
   "nbconvert_exporter": "python",
   "pygments_lexer": "ipython3",
   "version": "3.9.13"
  }
 },
 "nbformat": 4,
 "nbformat_minor": 2
}
